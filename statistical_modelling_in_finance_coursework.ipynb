{
 "cells": [
  {
   "cell_type": "markdown",
   "metadata": {},
   "source": [
    "### Overview\n",
    "\n",
    "This notebook is related to the cousework of the course: Statistical Modeling in Financial Market"
   ]
  },
  {
   "cell_type": "code",
   "execution_count": 1,
   "metadata": {},
   "outputs": [],
   "source": [
    "import pandas as pd\n",
    "import matplotlib.pyplot as plt\n",
    "import numpy as np"
   ]
  },
  {
   "cell_type": "markdown",
   "metadata": {},
   "source": [
    "### Data"
   ]
  },
  {
   "cell_type": "code",
   "execution_count": 2,
   "metadata": {
    "scrolled": false
   },
   "outputs": [
    {
     "data": {
      "text/html": [
       "<div>\n",
       "<style scoped>\n",
       "    .dataframe tbody tr th:only-of-type {\n",
       "        vertical-align: middle;\n",
       "    }\n",
       "\n",
       "    .dataframe tbody tr th {\n",
       "        vertical-align: top;\n",
       "    }\n",
       "\n",
       "    .dataframe thead th {\n",
       "        text-align: right;\n",
       "    }\n",
       "</style>\n",
       "<table border=\"1\" class=\"dataframe\">\n",
       "  <thead>\n",
       "    <tr style=\"text-align: right;\">\n",
       "      <th></th>\n",
       "      <th>Year</th>\n",
       "      <th>Esprit</th>\n",
       "      <th>HSBC</th>\n",
       "      <th>SHKP</th>\n",
       "      <th>HW</th>\n",
       "      <th>CLP</th>\n",
       "    </tr>\n",
       "  </thead>\n",
       "  <tbody>\n",
       "    <tr>\n",
       "      <th>0</th>\n",
       "      <td>2000-01-01</td>\n",
       "      <td>8.40</td>\n",
       "      <td>108.00</td>\n",
       "      <td>83.75</td>\n",
       "      <td>105.91</td>\n",
       "      <td>32.50</td>\n",
       "    </tr>\n",
       "    <tr>\n",
       "      <th>1</th>\n",
       "      <td>2001-01-01</td>\n",
       "      <td>6.65</td>\n",
       "      <td>115.50</td>\n",
       "      <td>77.75</td>\n",
       "      <td>97.25</td>\n",
       "      <td>29.75</td>\n",
       "    </tr>\n",
       "    <tr>\n",
       "      <th>2</th>\n",
       "      <td>2002-01-01</td>\n",
       "      <td>8.80</td>\n",
       "      <td>91.25</td>\n",
       "      <td>63.00</td>\n",
       "      <td>75.25</td>\n",
       "      <td>31.40</td>\n",
       "    </tr>\n",
       "    <tr>\n",
       "      <th>3</th>\n",
       "      <td>2003-01-01</td>\n",
       "      <td>13.15</td>\n",
       "      <td>85.25</td>\n",
       "      <td>46.20</td>\n",
       "      <td>48.80</td>\n",
       "      <td>36.90</td>\n",
       "    </tr>\n",
       "    <tr>\n",
       "      <th>4</th>\n",
       "      <td>2004-01-01</td>\n",
       "      <td>25.85</td>\n",
       "      <td>122.50</td>\n",
       "      <td>64.25</td>\n",
       "      <td>57.25</td>\n",
       "      <td>44.60</td>\n",
       "    </tr>\n",
       "    <tr>\n",
       "      <th>5</th>\n",
       "      <td>2005-01-01</td>\n",
       "      <td>55.10</td>\n",
       "      <td>124.40</td>\n",
       "      <td>75.75</td>\n",
       "      <td>73.90</td>\n",
       "      <td>44.95</td>\n",
       "    </tr>\n",
       "    <tr>\n",
       "      <th>6</th>\n",
       "      <td>2006-01-01</td>\n",
       "      <td>87.05</td>\n",
       "      <td>142.50</td>\n",
       "      <td>89.40</td>\n",
       "      <td>79.00</td>\n",
       "      <td>57.60</td>\n",
       "    </tr>\n",
       "  </tbody>\n",
       "</table>\n",
       "</div>"
      ],
      "text/plain": [
       "        Year  Esprit    HSBC   SHKP      HW    CLP\n",
       "0 2000-01-01    8.40  108.00  83.75  105.91  32.50\n",
       "1 2001-01-01    6.65  115.50  77.75   97.25  29.75\n",
       "2 2002-01-01    8.80   91.25  63.00   75.25  31.40\n",
       "3 2003-01-01   13.15   85.25  46.20   48.80  36.90\n",
       "4 2004-01-01   25.85  122.50  64.25   57.25  44.60\n",
       "5 2005-01-01   55.10  124.40  75.75   73.90  44.95\n",
       "6 2006-01-01   87.05  142.50  89.40   79.00  57.60"
      ]
     },
     "execution_count": 2,
     "metadata": {},
     "output_type": "execute_result"
    }
   ],
   "source": [
    "data = {'Year':list(range(2000,2007)), 'Esprit':[8.4, 6.65, 8.8, 13.15, 25.85, 55.1, 87.05], 'HSBC':[108,115.5,91.25,85.25,122.5,124.4,142.5],\n",
    "        'SHKP':[83.75, 77.75,63,46.2,64.25,75.75,89.4], 'HW':[105.91,97.25,75.25,48.8,57.25,73.9,79], 'CLP':[32.5,29.75,31.4,36.9,44.6,44.95,57.6]}\n",
    "df = pd.DataFrame(data)\n",
    "df['Year'] = pd.to_datetime(df['Year'], format='%Y')\n",
    "df"
   ]
  },
  {
   "cell_type": "markdown",
   "metadata": {},
   "source": [
    "### Q1) Calculate the annual covariance matrix and annual expected rates of returns of these stocks"
   ]
  },
  {
   "cell_type": "code",
   "execution_count": 3,
   "metadata": {},
   "outputs": [
    {
     "data": {
      "text/html": [
       "<div>\n",
       "<style scoped>\n",
       "    .dataframe tbody tr th:only-of-type {\n",
       "        vertical-align: middle;\n",
       "    }\n",
       "\n",
       "    .dataframe tbody tr th {\n",
       "        vertical-align: top;\n",
       "    }\n",
       "\n",
       "    .dataframe thead th {\n",
       "        text-align: right;\n",
       "    }\n",
       "</style>\n",
       "<table border=\"1\" class=\"dataframe\">\n",
       "  <thead>\n",
       "    <tr style=\"text-align: right;\">\n",
       "      <th></th>\n",
       "      <th>Esprit</th>\n",
       "      <th>HSBC</th>\n",
       "      <th>SHKP</th>\n",
       "      <th>HW</th>\n",
       "      <th>CLP</th>\n",
       "      <th>Esprit_r</th>\n",
       "      <th>HSBC_r</th>\n",
       "      <th>SHKP_r</th>\n",
       "      <th>HW_r</th>\n",
       "      <th>CLP_r</th>\n",
       "    </tr>\n",
       "  </thead>\n",
       "  <tbody>\n",
       "    <tr>\n",
       "      <th>0</th>\n",
       "      <td>8.40</td>\n",
       "      <td>108.00</td>\n",
       "      <td>83.75</td>\n",
       "      <td>105.91</td>\n",
       "      <td>32.50</td>\n",
       "      <td>NaN</td>\n",
       "      <td>NaN</td>\n",
       "      <td>NaN</td>\n",
       "      <td>NaN</td>\n",
       "      <td>NaN</td>\n",
       "    </tr>\n",
       "    <tr>\n",
       "      <th>1</th>\n",
       "      <td>6.65</td>\n",
       "      <td>115.50</td>\n",
       "      <td>77.75</td>\n",
       "      <td>97.25</td>\n",
       "      <td>29.75</td>\n",
       "      <td>-0.208333</td>\n",
       "      <td>0.069444</td>\n",
       "      <td>-0.071642</td>\n",
       "      <td>-0.081768</td>\n",
       "      <td>-0.084615</td>\n",
       "    </tr>\n",
       "    <tr>\n",
       "      <th>2</th>\n",
       "      <td>8.80</td>\n",
       "      <td>91.25</td>\n",
       "      <td>63.00</td>\n",
       "      <td>75.25</td>\n",
       "      <td>31.40</td>\n",
       "      <td>0.323308</td>\n",
       "      <td>-0.209957</td>\n",
       "      <td>-0.189711</td>\n",
       "      <td>-0.226221</td>\n",
       "      <td>0.055462</td>\n",
       "    </tr>\n",
       "    <tr>\n",
       "      <th>3</th>\n",
       "      <td>13.15</td>\n",
       "      <td>85.25</td>\n",
       "      <td>46.20</td>\n",
       "      <td>48.80</td>\n",
       "      <td>36.90</td>\n",
       "      <td>0.494318</td>\n",
       "      <td>-0.065753</td>\n",
       "      <td>-0.266667</td>\n",
       "      <td>-0.351495</td>\n",
       "      <td>0.175159</td>\n",
       "    </tr>\n",
       "    <tr>\n",
       "      <th>4</th>\n",
       "      <td>25.85</td>\n",
       "      <td>122.50</td>\n",
       "      <td>64.25</td>\n",
       "      <td>57.25</td>\n",
       "      <td>44.60</td>\n",
       "      <td>0.965779</td>\n",
       "      <td>0.436950</td>\n",
       "      <td>0.390693</td>\n",
       "      <td>0.173156</td>\n",
       "      <td>0.208672</td>\n",
       "    </tr>\n",
       "    <tr>\n",
       "      <th>5</th>\n",
       "      <td>55.10</td>\n",
       "      <td>124.40</td>\n",
       "      <td>75.75</td>\n",
       "      <td>73.90</td>\n",
       "      <td>44.95</td>\n",
       "      <td>1.131528</td>\n",
       "      <td>0.015510</td>\n",
       "      <td>0.178988</td>\n",
       "      <td>0.290830</td>\n",
       "      <td>0.007848</td>\n",
       "    </tr>\n",
       "    <tr>\n",
       "      <th>6</th>\n",
       "      <td>87.05</td>\n",
       "      <td>142.50</td>\n",
       "      <td>89.40</td>\n",
       "      <td>79.00</td>\n",
       "      <td>57.60</td>\n",
       "      <td>0.579855</td>\n",
       "      <td>0.145498</td>\n",
       "      <td>0.180198</td>\n",
       "      <td>0.069012</td>\n",
       "      <td>0.281424</td>\n",
       "    </tr>\n",
       "  </tbody>\n",
       "</table>\n",
       "</div>"
      ],
      "text/plain": [
       "   Esprit    HSBC   SHKP      HW    CLP  Esprit_r    HSBC_r    SHKP_r  \\\n",
       "0    8.40  108.00  83.75  105.91  32.50       NaN       NaN       NaN   \n",
       "1    6.65  115.50  77.75   97.25  29.75 -0.208333  0.069444 -0.071642   \n",
       "2    8.80   91.25  63.00   75.25  31.40  0.323308 -0.209957 -0.189711   \n",
       "3   13.15   85.25  46.20   48.80  36.90  0.494318 -0.065753 -0.266667   \n",
       "4   25.85  122.50  64.25   57.25  44.60  0.965779  0.436950  0.390693   \n",
       "5   55.10  124.40  75.75   73.90  44.95  1.131528  0.015510  0.178988   \n",
       "6   87.05  142.50  89.40   79.00  57.60  0.579855  0.145498  0.180198   \n",
       "\n",
       "       HW_r     CLP_r  \n",
       "0       NaN       NaN  \n",
       "1 -0.081768 -0.084615  \n",
       "2 -0.226221  0.055462  \n",
       "3 -0.351495  0.175159  \n",
       "4  0.173156  0.208672  \n",
       "5  0.290830  0.007848  \n",
       "6  0.069012  0.281424  "
      ]
     },
     "execution_count": 3,
     "metadata": {},
     "output_type": "execute_result"
    }
   ],
   "source": [
    "# Calculate return for each stock in each year\n",
    "stocks = df.iloc[:,1:]\n",
    "for i in stocks.columns:\n",
    "    new_col = i+'_r'\n",
    "    stocks[new_col] = stocks[i].pct_change()\n",
    "stocks"
   ]
  },
  {
   "cell_type": "code",
   "execution_count": 4,
   "metadata": {},
   "outputs": [
    {
     "data": {
      "text/html": [
       "<div>\n",
       "<style scoped>\n",
       "    .dataframe tbody tr th:only-of-type {\n",
       "        vertical-align: middle;\n",
       "    }\n",
       "\n",
       "    .dataframe tbody tr th {\n",
       "        vertical-align: top;\n",
       "    }\n",
       "\n",
       "    .dataframe thead th {\n",
       "        text-align: right;\n",
       "    }\n",
       "</style>\n",
       "<table border=\"1\" class=\"dataframe\">\n",
       "  <thead>\n",
       "    <tr style=\"text-align: right;\">\n",
       "      <th></th>\n",
       "      <th>Esprit</th>\n",
       "      <th>HSBC</th>\n",
       "      <th>SHKP</th>\n",
       "      <th>HW</th>\n",
       "      <th>CLP</th>\n",
       "      <th>Esprit_r</th>\n",
       "      <th>HSBC_r</th>\n",
       "      <th>SHKP_r</th>\n",
       "      <th>HW_r</th>\n",
       "      <th>CLP_r</th>\n",
       "    </tr>\n",
       "  </thead>\n",
       "  <tbody>\n",
       "    <tr>\n",
       "      <th>count</th>\n",
       "      <td>7.000000</td>\n",
       "      <td>7.000000</td>\n",
       "      <td>7.000000</td>\n",
       "      <td>7.000000</td>\n",
       "      <td>7.000000</td>\n",
       "      <td>6.000000</td>\n",
       "      <td>6.000000</td>\n",
       "      <td>6.000000</td>\n",
       "      <td>6.000000</td>\n",
       "      <td>6.000000</td>\n",
       "    </tr>\n",
       "    <tr>\n",
       "      <th>mean</th>\n",
       "      <td>29.285714</td>\n",
       "      <td>112.771429</td>\n",
       "      <td>71.442857</td>\n",
       "      <td>76.765714</td>\n",
       "      <td>39.671429</td>\n",
       "      <td>0.547743</td>\n",
       "      <td>0.065282</td>\n",
       "      <td>0.036977</td>\n",
       "      <td>-0.021081</td>\n",
       "      <td>0.107325</td>\n",
       "    </tr>\n",
       "    <tr>\n",
       "      <th>std</th>\n",
       "      <td>30.668954</td>\n",
       "      <td>19.851403</td>\n",
       "      <td>14.676950</td>\n",
       "      <td>20.196705</td>\n",
       "      <td>9.996243</td>\n",
       "      <td>0.477801</td>\n",
       "      <td>0.219086</td>\n",
       "      <td>0.253448</td>\n",
       "      <td>0.244160</td>\n",
       "      <td>0.137557</td>\n",
       "    </tr>\n",
       "    <tr>\n",
       "      <th>min</th>\n",
       "      <td>6.650000</td>\n",
       "      <td>85.250000</td>\n",
       "      <td>46.200000</td>\n",
       "      <td>48.800000</td>\n",
       "      <td>29.750000</td>\n",
       "      <td>-0.208333</td>\n",
       "      <td>-0.209957</td>\n",
       "      <td>-0.266667</td>\n",
       "      <td>-0.351495</td>\n",
       "      <td>-0.084615</td>\n",
       "    </tr>\n",
       "    <tr>\n",
       "      <th>25%</th>\n",
       "      <td>8.600000</td>\n",
       "      <td>99.625000</td>\n",
       "      <td>63.625000</td>\n",
       "      <td>65.575000</td>\n",
       "      <td>31.950000</td>\n",
       "      <td>0.366061</td>\n",
       "      <td>-0.045438</td>\n",
       "      <td>-0.160193</td>\n",
       "      <td>-0.190108</td>\n",
       "      <td>0.019751</td>\n",
       "    </tr>\n",
       "    <tr>\n",
       "      <th>50%</th>\n",
       "      <td>13.150000</td>\n",
       "      <td>115.500000</td>\n",
       "      <td>75.750000</td>\n",
       "      <td>75.250000</td>\n",
       "      <td>36.900000</td>\n",
       "      <td>0.537086</td>\n",
       "      <td>0.042477</td>\n",
       "      <td>0.053673</td>\n",
       "      <td>-0.006378</td>\n",
       "      <td>0.115311</td>\n",
       "    </tr>\n",
       "    <tr>\n",
       "      <th>75%</th>\n",
       "      <td>40.475000</td>\n",
       "      <td>123.450000</td>\n",
       "      <td>80.750000</td>\n",
       "      <td>88.125000</td>\n",
       "      <td>44.775000</td>\n",
       "      <td>0.869298</td>\n",
       "      <td>0.126485</td>\n",
       "      <td>0.179896</td>\n",
       "      <td>0.147120</td>\n",
       "      <td>0.200294</td>\n",
       "    </tr>\n",
       "    <tr>\n",
       "      <th>max</th>\n",
       "      <td>87.050000</td>\n",
       "      <td>142.500000</td>\n",
       "      <td>89.400000</td>\n",
       "      <td>105.910000</td>\n",
       "      <td>57.600000</td>\n",
       "      <td>1.131528</td>\n",
       "      <td>0.436950</td>\n",
       "      <td>0.390693</td>\n",
       "      <td>0.290830</td>\n",
       "      <td>0.281424</td>\n",
       "    </tr>\n",
       "  </tbody>\n",
       "</table>\n",
       "</div>"
      ],
      "text/plain": [
       "          Esprit        HSBC       SHKP          HW        CLP  Esprit_r  \\\n",
       "count   7.000000    7.000000   7.000000    7.000000   7.000000  6.000000   \n",
       "mean   29.285714  112.771429  71.442857   76.765714  39.671429  0.547743   \n",
       "std    30.668954   19.851403  14.676950   20.196705   9.996243  0.477801   \n",
       "min     6.650000   85.250000  46.200000   48.800000  29.750000 -0.208333   \n",
       "25%     8.600000   99.625000  63.625000   65.575000  31.950000  0.366061   \n",
       "50%    13.150000  115.500000  75.750000   75.250000  36.900000  0.537086   \n",
       "75%    40.475000  123.450000  80.750000   88.125000  44.775000  0.869298   \n",
       "max    87.050000  142.500000  89.400000  105.910000  57.600000  1.131528   \n",
       "\n",
       "         HSBC_r    SHKP_r      HW_r     CLP_r  \n",
       "count  6.000000  6.000000  6.000000  6.000000  \n",
       "mean   0.065282  0.036977 -0.021081  0.107325  \n",
       "std    0.219086  0.253448  0.244160  0.137557  \n",
       "min   -0.209957 -0.266667 -0.351495 -0.084615  \n",
       "25%   -0.045438 -0.160193 -0.190108  0.019751  \n",
       "50%    0.042477  0.053673 -0.006378  0.115311  \n",
       "75%    0.126485  0.179896  0.147120  0.200294  \n",
       "max    0.436950  0.390693  0.290830  0.281424  "
      ]
     },
     "execution_count": 4,
     "metadata": {},
     "output_type": "execute_result"
    }
   ],
   "source": [
    "# Calculate mean annual return for each stock\n",
    "stocks.describe()"
   ]
  },
  {
   "cell_type": "code",
   "execution_count": 5,
   "metadata": {
    "scrolled": true
   },
   "outputs": [
    {
     "data": {
      "text/html": [
       "<div>\n",
       "<style scoped>\n",
       "    .dataframe tbody tr th:only-of-type {\n",
       "        vertical-align: middle;\n",
       "    }\n",
       "\n",
       "    .dataframe tbody tr th {\n",
       "        vertical-align: top;\n",
       "    }\n",
       "\n",
       "    .dataframe thead th {\n",
       "        text-align: right;\n",
       "    }\n",
       "</style>\n",
       "<table border=\"1\" class=\"dataframe\">\n",
       "  <thead>\n",
       "    <tr style=\"text-align: right;\">\n",
       "      <th></th>\n",
       "      <th>Esprit_r</th>\n",
       "      <th>HSBC_r</th>\n",
       "      <th>SHKP_r</th>\n",
       "      <th>HW_r</th>\n",
       "      <th>CLP_r</th>\n",
       "    </tr>\n",
       "  </thead>\n",
       "  <tbody>\n",
       "    <tr>\n",
       "      <th>Esprit_r</th>\n",
       "      <td>0.228293</td>\n",
       "      <td>0.038903</td>\n",
       "      <td>0.076918</td>\n",
       "      <td>0.075151</td>\n",
       "      <td>0.028604</td>\n",
       "    </tr>\n",
       "    <tr>\n",
       "      <th>HSBC_r</th>\n",
       "      <td>0.038903</td>\n",
       "      <td>0.047999</td>\n",
       "      <td>0.047523</td>\n",
       "      <td>0.032680</td>\n",
       "      <td>0.012234</td>\n",
       "    </tr>\n",
       "    <tr>\n",
       "      <th>SHKP_r</th>\n",
       "      <td>0.076918</td>\n",
       "      <td>0.047523</td>\n",
       "      <td>0.064236</td>\n",
       "      <td>0.055865</td>\n",
       "      <td>0.011733</td>\n",
       "    </tr>\n",
       "    <tr>\n",
       "      <th>HW_r</th>\n",
       "      <td>0.075151</td>\n",
       "      <td>0.032680</td>\n",
       "      <td>0.055865</td>\n",
       "      <td>0.059614</td>\n",
       "      <td>0.000843</td>\n",
       "    </tr>\n",
       "    <tr>\n",
       "      <th>CLP_r</th>\n",
       "      <td>0.028604</td>\n",
       "      <td>0.012234</td>\n",
       "      <td>0.011733</td>\n",
       "      <td>0.000843</td>\n",
       "      <td>0.018922</td>\n",
       "    </tr>\n",
       "  </tbody>\n",
       "</table>\n",
       "</div>"
      ],
      "text/plain": [
       "          Esprit_r    HSBC_r    SHKP_r      HW_r     CLP_r\n",
       "Esprit_r  0.228293  0.038903  0.076918  0.075151  0.028604\n",
       "HSBC_r    0.038903  0.047999  0.047523  0.032680  0.012234\n",
       "SHKP_r    0.076918  0.047523  0.064236  0.055865  0.011733\n",
       "HW_r      0.075151  0.032680  0.055865  0.059614  0.000843\n",
       "CLP_r     0.028604  0.012234  0.011733  0.000843  0.018922"
      ]
     },
     "execution_count": 5,
     "metadata": {},
     "output_type": "execute_result"
    }
   ],
   "source": [
    "# Calculate the annual covariance matrix\n",
    "rtn = stocks.iloc[:, 5:]\n",
    "rtn = rtn.dropna()\n",
    "rtn.cov()"
   ]
  },
  {
   "cell_type": "markdown",
   "metadata": {},
   "source": [
    "### Q2) Using annual expected return of SHKP and HSBC to calculate and plot the efficient frontier"
   ]
  },
  {
   "cell_type": "code",
   "execution_count": 6,
   "metadata": {},
   "outputs": [
    {
     "data": {
      "text/html": [
       "<div>\n",
       "<style scoped>\n",
       "    .dataframe tbody tr th:only-of-type {\n",
       "        vertical-align: middle;\n",
       "    }\n",
       "\n",
       "    .dataframe tbody tr th {\n",
       "        vertical-align: top;\n",
       "    }\n",
       "\n",
       "    .dataframe thead th {\n",
       "        text-align: right;\n",
       "    }\n",
       "</style>\n",
       "<table border=\"1\" class=\"dataframe\">\n",
       "  <thead>\n",
       "    <tr style=\"text-align: right;\">\n",
       "      <th></th>\n",
       "      <th>SHKP Weight</th>\n",
       "      <th>HSBC Weight</th>\n",
       "      <th>Portfolio Expected Return</th>\n",
       "      <th>Portfolio Standard Deviation</th>\n",
       "    </tr>\n",
       "  </thead>\n",
       "  <tbody>\n",
       "    <tr>\n",
       "      <th>0</th>\n",
       "      <td>-1.0</td>\n",
       "      <td>2.0</td>\n",
       "      <td>0.093588</td>\n",
       "      <td>0.257174</td>\n",
       "    </tr>\n",
       "    <tr>\n",
       "      <th>1</th>\n",
       "      <td>-0.9</td>\n",
       "      <td>1.9</td>\n",
       "      <td>0.090757</td>\n",
       "      <td>0.250555</td>\n",
       "    </tr>\n",
       "    <tr>\n",
       "      <th>2</th>\n",
       "      <td>-0.8</td>\n",
       "      <td>1.8</td>\n",
       "      <td>0.087927</td>\n",
       "      <td>0.244460</td>\n",
       "    </tr>\n",
       "    <tr>\n",
       "      <th>3</th>\n",
       "      <td>-0.7</td>\n",
       "      <td>1.7</td>\n",
       "      <td>0.085096</td>\n",
       "      <td>0.238929</td>\n",
       "    </tr>\n",
       "    <tr>\n",
       "      <th>4</th>\n",
       "      <td>-0.6</td>\n",
       "      <td>1.6</td>\n",
       "      <td>0.082265</td>\n",
       "      <td>0.234003</td>\n",
       "    </tr>\n",
       "    <tr>\n",
       "      <th>5</th>\n",
       "      <td>-0.5</td>\n",
       "      <td>1.5</td>\n",
       "      <td>0.079435</td>\n",
       "      <td>0.229720</td>\n",
       "    </tr>\n",
       "    <tr>\n",
       "      <th>6</th>\n",
       "      <td>-0.4</td>\n",
       "      <td>1.4</td>\n",
       "      <td>0.076604</td>\n",
       "      <td>0.226118</td>\n",
       "    </tr>\n",
       "    <tr>\n",
       "      <th>7</th>\n",
       "      <td>-0.3</td>\n",
       "      <td>1.3</td>\n",
       "      <td>0.073774</td>\n",
       "      <td>0.223229</td>\n",
       "    </tr>\n",
       "    <tr>\n",
       "      <th>8</th>\n",
       "      <td>-0.2</td>\n",
       "      <td>1.2</td>\n",
       "      <td>0.070943</td>\n",
       "      <td>0.221080</td>\n",
       "    </tr>\n",
       "    <tr>\n",
       "      <th>9</th>\n",
       "      <td>-0.1</td>\n",
       "      <td>1.1</td>\n",
       "      <td>0.068113</td>\n",
       "      <td>0.219694</td>\n",
       "    </tr>\n",
       "    <tr>\n",
       "      <th>10</th>\n",
       "      <td>0.0</td>\n",
       "      <td>1.0</td>\n",
       "      <td>0.065282</td>\n",
       "      <td>0.219086</td>\n",
       "    </tr>\n",
       "    <tr>\n",
       "      <th>11</th>\n",
       "      <td>0.1</td>\n",
       "      <td>0.9</td>\n",
       "      <td>0.062452</td>\n",
       "      <td>0.219261</td>\n",
       "    </tr>\n",
       "    <tr>\n",
       "      <th>12</th>\n",
       "      <td>0.2</td>\n",
       "      <td>0.8</td>\n",
       "      <td>0.059621</td>\n",
       "      <td>0.220218</td>\n",
       "    </tr>\n",
       "    <tr>\n",
       "      <th>13</th>\n",
       "      <td>0.3</td>\n",
       "      <td>0.7</td>\n",
       "      <td>0.056791</td>\n",
       "      <td>0.221946</td>\n",
       "    </tr>\n",
       "    <tr>\n",
       "      <th>14</th>\n",
       "      <td>0.4</td>\n",
       "      <td>0.6</td>\n",
       "      <td>0.053960</td>\n",
       "      <td>0.224429</td>\n",
       "    </tr>\n",
       "    <tr>\n",
       "      <th>15</th>\n",
       "      <td>0.5</td>\n",
       "      <td>0.5</td>\n",
       "      <td>0.051129</td>\n",
       "      <td>0.227640</td>\n",
       "    </tr>\n",
       "    <tr>\n",
       "      <th>16</th>\n",
       "      <td>0.6</td>\n",
       "      <td>0.4</td>\n",
       "      <td>0.048299</td>\n",
       "      <td>0.231551</td>\n",
       "    </tr>\n",
       "    <tr>\n",
       "      <th>17</th>\n",
       "      <td>0.7</td>\n",
       "      <td>0.3</td>\n",
       "      <td>0.045468</td>\n",
       "      <td>0.236125</td>\n",
       "    </tr>\n",
       "    <tr>\n",
       "      <th>18</th>\n",
       "      <td>0.8</td>\n",
       "      <td>0.2</td>\n",
       "      <td>0.042638</td>\n",
       "      <td>0.241326</td>\n",
       "    </tr>\n",
       "    <tr>\n",
       "      <th>19</th>\n",
       "      <td>0.9</td>\n",
       "      <td>0.1</td>\n",
       "      <td>0.039807</td>\n",
       "      <td>0.247114</td>\n",
       "    </tr>\n",
       "    <tr>\n",
       "      <th>20</th>\n",
       "      <td>1.0</td>\n",
       "      <td>0.0</td>\n",
       "      <td>0.036977</td>\n",
       "      <td>0.253448</td>\n",
       "    </tr>\n",
       "  </tbody>\n",
       "</table>\n",
       "</div>"
      ],
      "text/plain": [
       "    SHKP Weight  HSBC Weight  Portfolio Expected Return  \\\n",
       "0          -1.0          2.0                   0.093588   \n",
       "1          -0.9          1.9                   0.090757   \n",
       "2          -0.8          1.8                   0.087927   \n",
       "3          -0.7          1.7                   0.085096   \n",
       "4          -0.6          1.6                   0.082265   \n",
       "5          -0.5          1.5                   0.079435   \n",
       "6          -0.4          1.4                   0.076604   \n",
       "7          -0.3          1.3                   0.073774   \n",
       "8          -0.2          1.2                   0.070943   \n",
       "9          -0.1          1.1                   0.068113   \n",
       "10          0.0          1.0                   0.065282   \n",
       "11          0.1          0.9                   0.062452   \n",
       "12          0.2          0.8                   0.059621   \n",
       "13          0.3          0.7                   0.056791   \n",
       "14          0.4          0.6                   0.053960   \n",
       "15          0.5          0.5                   0.051129   \n",
       "16          0.6          0.4                   0.048299   \n",
       "17          0.7          0.3                   0.045468   \n",
       "18          0.8          0.2                   0.042638   \n",
       "19          0.9          0.1                   0.039807   \n",
       "20          1.0          0.0                   0.036977   \n",
       "\n",
       "    Portfolio Standard Deviation  \n",
       "0                       0.257174  \n",
       "1                       0.250555  \n",
       "2                       0.244460  \n",
       "3                       0.238929  \n",
       "4                       0.234003  \n",
       "5                       0.229720  \n",
       "6                       0.226118  \n",
       "7                       0.223229  \n",
       "8                       0.221080  \n",
       "9                       0.219694  \n",
       "10                      0.219086  \n",
       "11                      0.219261  \n",
       "12                      0.220218  \n",
       "13                      0.221946  \n",
       "14                      0.224429  \n",
       "15                      0.227640  \n",
       "16                      0.231551  \n",
       "17                      0.236125  \n",
       "18                      0.241326  \n",
       "19                      0.247114  \n",
       "20                      0.253448  "
      ]
     },
     "execution_count": 6,
     "metadata": {},
     "output_type": "execute_result"
    }
   ],
   "source": [
    "sd_shk = rtn['SHKP_r'].std()\n",
    "sd_hsbc = rtn['HSBC_r'].std()\n",
    "m_shk = rtn['SHKP_r'].mean()\n",
    "m_hsbc = rtn['HSBC_r'].mean()\n",
    "cov = rtn['SHKP_r'].cov(rtn['HSBC_r'])\n",
    "record = {'SHKP Weight':[], 'HSBC Weight':[], 'Portfolio Expected Return':[], 'Portfolio Standard Deviation':[]}\n",
    "for a in np.linspace(-1,1,21):\n",
    "    b = 1-a\n",
    "    exp_r = a*m_shk + b*m_hsbc\n",
    "    std = ((a*sd_shk)**2 + (b*sd_hsbc)**2 + 2*a*b*cov)**0.5\n",
    "    record['SHKP Weight'].append(a)\n",
    "    record['HSBC Weight'].append(b)\n",
    "    record['Portfolio Expected Return'].append(exp_r)\n",
    "    record['Portfolio Standard Deviation'].append(std)\n",
    "result = pd.DataFrame(record)\n",
    "result\n",
    "    "
   ]
  },
  {
   "cell_type": "code",
   "execution_count": 7,
   "metadata": {
    "scrolled": false
   },
   "outputs": [
    {
     "data": {
      "text/plain": [
       "<matplotlib.legend.Legend at 0x2b7c7ef61d0>"
      ]
     },
     "execution_count": 7,
     "metadata": {},
     "output_type": "execute_result"
    },
    {
     "data": {
      "image/png": "[encoded data removed]",
      "text/plain": [
       "<Figure size 576x360 with 1 Axes>"
      ]
     },
     "metadata": {
      "needs_background": "light"
     },
     "output_type": "display_data"
    }
   ],
   "source": [
    "fig, ax = plt.subplots(figsize=(8,5))\n",
    "ax.plot(result['Portfolio Standard Deviation'][:11], result['Portfolio Expected Return'][:11], color='r', label = 'efficient frontier')\n",
    "ax.plot(result['Portfolio Standard Deviation'][10:], result['Portfolio Expected Return'][10:], color='black')\n",
    "plt.xlabel('Portfolio Standard Deviation')\n",
    "plt.ylabel('Portfolio Expected Return')\n",
    "plt.legend()"
   ]
  },
  {
   "cell_type": "markdown",
   "metadata": {},
   "source": [
    "### Q3) Assume the listed stocks in data form the narket portfolio. Calculate the efficient market weights W1, W2 of the two efficient portfolios with short-selling. Using the two-fund theorem, determine the expected return and volatility of the efficient market portfolio (0.5W1 + 0.5W2)"
   ]
  },
  {
   "attachments": {},
   "cell_type": "markdown",
   "metadata": {},
   "source": [
    "Refer to Markowitz Model, W1 is obtained by setting lambda 1 = 0 and lambda 2 = 1 and solving the following equations. W2 is obtained by setting lambda 1 = 1 and lambda 2 = 0 and solving the equations."
   ]
  },
  {
   "attachments": {
    "image.png": {
     "image/png": "[encoded data removed]"
    }
   },
   "cell_type": "markdown",
   "metadata": {},
   "source": [
    "![image.png](attachment:image.png)"
   ]
  },
  {
   "cell_type": "code",
   "execution_count": 8,
   "metadata": {},
   "outputs": [
    {
     "data": {
      "text/plain": [
       "array([[-0.09279013],\n",
       "       [ 0.51147689],\n",
       "       [-1.38511612],\n",
       "       [ 1.17814943],\n",
       "       [ 0.78827993]])"
      ]
     },
     "execution_count": 8,
     "metadata": {},
     "output_type": "execute_result"
    }
   ],
   "source": [
    "cov_matrix = rtn.cov().values\n",
    "w1 = np.linalg.inv(cov_matrix).dot(np.array([[1],[1],[1],[1],[1]]))\n",
    "w1 = w1/w1.sum()\n",
    "w1"
   ]
  },
  {
   "cell_type": "code",
   "execution_count": 9,
   "metadata": {},
   "outputs": [
    {
     "data": {
      "text/plain": [
       "array([[-2.01504553],\n",
       "       [-2.68700258],\n",
       "       [ 1.82050148],\n",
       "       [ 2.41625484],\n",
       "       [ 1.4652918 ]])"
      ]
     },
     "execution_count": 9,
     "metadata": {},
     "output_type": "execute_result"
    }
   ],
   "source": [
    "w2 = np.linalg.inv(cov_matrix).dot(np.array([[0.547743],[0.065282],[0.036977],[-0.021081],[0.107325]]))\n",
    "w2 = w2/w2.sum()\n",
    "w2"
   ]
  },
  {
   "cell_type": "code",
   "execution_count": 10,
   "metadata": {},
   "outputs": [
    {
     "data": {
      "text/plain": [
       "array([[-1.05391783],\n",
       "       [-1.08776285],\n",
       "       [ 0.21769268],\n",
       "       [ 1.79720213],\n",
       "       [ 1.12678586]])"
      ]
     },
     "execution_count": 10,
     "metadata": {},
     "output_type": "execute_result"
    }
   ],
   "source": [
    "# Applying two fund theorm to obtain efficient portfolio\n",
    "w3 = 0.5*w1+0.5*w2\n",
    "w3"
   ]
  },
  {
   "cell_type": "code",
   "execution_count": 11,
   "metadata": {},
   "outputs": [
    {
     "name": "stdout",
     "output_type": "stream",
     "text": [
      "expected return = -0.557192350543312\n"
     ]
    }
   ],
   "source": [
    "expected_return = w3.flatten().dot(np.array([0.547743,0.065282,0.036977,-0.021081,0.107325]))\n",
    "print(\"expected return =\", expected_return)"
   ]
  },
  {
   "cell_type": "code",
   "execution_count": 12,
   "metadata": {
    "scrolled": true
   },
   "outputs": [
    {
     "name": "stdout",
     "output_type": "stream",
     "text": [
      "variance =  [[0.10387829]]\n"
     ]
    }
   ],
   "source": [
    "variance = w3.T.dot(cov_matrix).dot(w3)\n",
    "print('variance = ', variance)"
   ]
  },
  {
   "cell_type": "markdown",
   "metadata": {},
   "source": [
    "### Q4) Plot the efficient frontier of the market portfolio in Q3 with short-selling. Suppose risk-free rate is 5%, determine efficient frontier when lending and borrowing of the risk-free asset is allowed."
   ]
  },
  {
   "cell_type": "code",
   "execution_count": 13,
   "metadata": {},
   "outputs": [
    {
     "data": {
      "text/html": [
       "<div>\n",
       "<style scoped>\n",
       "    .dataframe tbody tr th:only-of-type {\n",
       "        vertical-align: middle;\n",
       "    }\n",
       "\n",
       "    .dataframe tbody tr th {\n",
       "        vertical-align: top;\n",
       "    }\n",
       "\n",
       "    .dataframe thead th {\n",
       "        text-align: right;\n",
       "    }\n",
       "</style>\n",
       "<table border=\"1\" class=\"dataframe\">\n",
       "  <thead>\n",
       "    <tr style=\"text-align: right;\">\n",
       "      <th></th>\n",
       "      <th>W1 weight</th>\n",
       "      <th>W2 weight</th>\n",
       "      <th>Portfolio Expected Return</th>\n",
       "      <th>Portfolio Standard Deviation</th>\n",
       "    </tr>\n",
       "  </thead>\n",
       "  <tbody>\n",
       "    <tr>\n",
       "      <th>0</th>\n",
       "      <td>-1.000000</td>\n",
       "      <td>2.000000</td>\n",
       "      <td>-2.202109</td>\n",
       "      <td>1.270090</td>\n",
       "    </tr>\n",
       "    <tr>\n",
       "      <th>1</th>\n",
       "      <td>-0.966667</td>\n",
       "      <td>1.966667</td>\n",
       "      <td>-2.165555</td>\n",
       "      <td>1.248965</td>\n",
       "    </tr>\n",
       "    <tr>\n",
       "      <th>2</th>\n",
       "      <td>-0.933333</td>\n",
       "      <td>1.933333</td>\n",
       "      <td>-2.129002</td>\n",
       "      <td>1.227841</td>\n",
       "    </tr>\n",
       "    <tr>\n",
       "      <th>3</th>\n",
       "      <td>-0.900000</td>\n",
       "      <td>1.900000</td>\n",
       "      <td>-2.092448</td>\n",
       "      <td>1.206718</td>\n",
       "    </tr>\n",
       "    <tr>\n",
       "      <th>4</th>\n",
       "      <td>-0.866667</td>\n",
       "      <td>1.866667</td>\n",
       "      <td>-2.055894</td>\n",
       "      <td>1.185595</td>\n",
       "    </tr>\n",
       "    <tr>\n",
       "      <th>...</th>\n",
       "      <td>...</td>\n",
       "      <td>...</td>\n",
       "      <td>...</td>\n",
       "      <td>...</td>\n",
       "    </tr>\n",
       "    <tr>\n",
       "      <th>116</th>\n",
       "      <td>2.866667</td>\n",
       "      <td>-1.866667</td>\n",
       "      <td>2.038121</td>\n",
       "      <td>1.185595</td>\n",
       "    </tr>\n",
       "    <tr>\n",
       "      <th>117</th>\n",
       "      <td>2.900000</td>\n",
       "      <td>-1.900000</td>\n",
       "      <td>2.074674</td>\n",
       "      <td>1.206718</td>\n",
       "    </tr>\n",
       "    <tr>\n",
       "      <th>118</th>\n",
       "      <td>2.933333</td>\n",
       "      <td>-1.933333</td>\n",
       "      <td>2.111228</td>\n",
       "      <td>1.227841</td>\n",
       "    </tr>\n",
       "    <tr>\n",
       "      <th>119</th>\n",
       "      <td>2.966667</td>\n",
       "      <td>-1.966667</td>\n",
       "      <td>2.147782</td>\n",
       "      <td>1.248965</td>\n",
       "    </tr>\n",
       "    <tr>\n",
       "      <th>120</th>\n",
       "      <td>3.000000</td>\n",
       "      <td>-2.000000</td>\n",
       "      <td>2.184336</td>\n",
       "      <td>1.270090</td>\n",
       "    </tr>\n",
       "  </tbody>\n",
       "</table>\n",
       "<p>121 rows × 4 columns</p>\n",
       "</div>"
      ],
      "text/plain": [
       "     W1 weight  W2 weight  Portfolio Expected Return  \\\n",
       "0    -1.000000   2.000000                  -2.202109   \n",
       "1    -0.966667   1.966667                  -2.165555   \n",
       "2    -0.933333   1.933333                  -2.129002   \n",
       "3    -0.900000   1.900000                  -2.092448   \n",
       "4    -0.866667   1.866667                  -2.055894   \n",
       "..         ...        ...                        ...   \n",
       "116   2.866667  -1.866667                   2.038121   \n",
       "117   2.900000  -1.900000                   2.074674   \n",
       "118   2.933333  -1.933333                   2.111228   \n",
       "119   2.966667  -1.966667                   2.147782   \n",
       "120   3.000000  -2.000000                   2.184336   \n",
       "\n",
       "     Portfolio Standard Deviation  \n",
       "0                        1.270090  \n",
       "1                        1.248965  \n",
       "2                        1.227841  \n",
       "3                        1.206718  \n",
       "4                        1.185595  \n",
       "..                            ...  \n",
       "116                      1.185595  \n",
       "117                      1.206718  \n",
       "118                      1.227841  \n",
       "119                      1.248965  \n",
       "120                      1.270090  \n",
       "\n",
       "[121 rows x 4 columns]"
      ]
     },
     "execution_count": 13,
     "metadata": {},
     "output_type": "execute_result"
    }
   ],
   "source": [
    "res = {'W1 weight':[], 'W2 weight':[], 'Portfolio Expected Return': [], 'Portfolio Standard Deviation':[]}\n",
    "means = np.array([0.547743,0.065282,0.036977,-0.021081,0.107325]) # mean annual return of each stocks\n",
    "for a in np.linspace(-1,3,121): \n",
    "    b = 1-a\n",
    "    w3 = a*w1 + b*w2\n",
    "    p_mean = w3.flatten().dot(means)\n",
    "    p_sd = (w3.T.dot(cov_matrix).dot(w3)[0][0])**0.5\n",
    "    res['W1 weight'].append(a)\n",
    "    res['W2 weight'].append(b)\n",
    "    res['Portfolio Expected Return'].append(p_mean)\n",
    "    res['Portfolio Standard Deviation'].append(p_sd)\n",
    "df_res = pd.DataFrame(res)\n",
    "df_res"
   ]
  },
  {
   "cell_type": "code",
   "execution_count": 14,
   "metadata": {
    "scrolled": true
   },
   "outputs": [
    {
     "data": {
      "text/plain": [
       "Text(0.5, 1.0, 'Efficient Frontier of Market Portfolio')"
      ]
     },
     "execution_count": 14,
     "metadata": {},
     "output_type": "execute_result"
    },
    {
     "data": {
      "image/png": "[encoded data removed]",
      "text/plain": [
       "<Figure size 576x288 with 1 Axes>"
      ]
     },
     "metadata": {
      "needs_background": "light"
     },
     "output_type": "display_data"
    }
   ],
   "source": [
    "fig, ax = plt.subplots(figsize=(8,4))\n",
    "ax.plot(df_res['Portfolio Standard Deviation'][:60], df_res['Portfolio Expected Return'][:60], color='black')\n",
    "ax.plot(df_res['Portfolio Standard Deviation'][59:], df_res['Portfolio Expected Return'][59:], color='r')\n",
    "plt.xlabel('Portfolio Standard Deviation')\n",
    "plt.ylabel('Portfolio Expected Return')\n",
    "plt.title('Efficient Frontier of Market Portfolio')"
   ]
  },
  {
   "cell_type": "markdown",
   "metadata": {},
   "source": [
    "##### when lending and borrowing of the risk-free asset is allowed\n",
    "Tangency portfolio can be found by solving the following equations\n",
    "\n"
   ]
  },
  {
   "attachments": {
    "image.png": {
     "image/png": "[encoded data removed]"
    }
   },
   "cell_type": "markdown",
   "metadata": {},
   "source": [
    "![image.png](attachment:image.png)"
   ]
  },
  {
   "cell_type": "code",
   "execution_count": 15,
   "metadata": {},
   "outputs": [
    {
     "data": {
      "text/plain": [
       "array([[-0.38288322],\n",
       "       [ 0.02878515],\n",
       "       [-0.90134715],\n",
       "       [ 1.36499548],\n",
       "       [ 0.89044974]])"
      ]
     },
     "execution_count": 15,
     "metadata": {},
     "output_type": "execute_result"
    }
   ],
   "source": [
    "# Find the tangency portfolio\n",
    "means = np.array([[0.547743],[0.065282],[0.036977],[-0.021081],[0.107325]])\n",
    "d_means = means - 0.05\n",
    "w_opt = np.linalg.inv(cov_matrix).dot(d_means)\n",
    "w_opt = w_opt/w_opt.sum()\n",
    "w_opt"
   ]
  },
  {
   "cell_type": "code",
   "execution_count": 16,
   "metadata": {},
   "outputs": [
    {
     "data": {
      "text/plain": [
       "-0.17437951802493606"
      ]
     },
     "execution_count": 16,
     "metadata": {},
     "output_type": "execute_result"
    }
   ],
   "source": [
    "# mean of tangency portfolio\n",
    "mean_opt = w_opt.flatten().dot(means)[0]\n",
    "mean_opt"
   ]
  },
  {
   "cell_type": "code",
   "execution_count": 17,
   "metadata": {},
   "outputs": [
    {
     "data": {
      "text/plain": [
       "0.11147913446353008"
      ]
     },
     "execution_count": 17,
     "metadata": {},
     "output_type": "execute_result"
    }
   ],
   "source": [
    "sd_opt = (w_opt.T.dot(cov_matrix).dot(w_opt)[0][0])**0.5\n",
    "sd_opt"
   ]
  },
  {
   "cell_type": "code",
   "execution_count": 18,
   "metadata": {
    "scrolled": true
   },
   "outputs": [
    {
     "data": {
      "text/plain": [
       "<matplotlib.legend.Legend at 0x2b7c8079668>"
      ]
     },
     "execution_count": 18,
     "metadata": {},
     "output_type": "execute_result"
    },
    {
     "data": {
      "image/png": "[encoded data removed]",
      "text/plain": [
       "<Figure size 576x360 with 1 Axes>"
      ]
     },
     "metadata": {
      "needs_background": "light"
     },
     "output_type": "display_data"
    }
   ],
   "source": [
    "# Efficient frontier is obtained by short-selling unique risky fund and buying risk-free asset \n",
    "x = np.linspace(0,1.2,100)\n",
    "y = (x*(-mean_opt+0.05)/sd_opt+0.05)\n",
    "fig, ax = plt.subplots(figsize=(8,5))\n",
    "ax.plot(df_res['Portfolio Standard Deviation'][:21], df_res['Portfolio Expected Return'][:21], color='black')\n",
    "ax.plot(df_res['Portfolio Standard Deviation'][20:], df_res['Portfolio Expected Return'][20:], color='black')\n",
    "ax.scatter([sd_opt],[mean_opt], label='Tangency Portfolio')\n",
    "ax.plot(x,y, color='r', label = 'efficient frontier')\n",
    "plt.xlabel('Portfolio Standard Deviation')\n",
    "plt.ylabel('Portfolio Expected Return')\n",
    "\n",
    "plt.legend()"
   ]
  }
 ],
 "metadata": {
  "kernelspec": {
   "display_name": "Python 3",
   "language": "python",
   "name": "python3"
  },
  "language_info": {
   "codemirror_mode": {
    "name": "ipython",
    "version": 3
   },
   "file_extension": ".py",
   "mimetype": "text/x-python",
   "name": "python",
   "nbconvert_exporter": "python",
   "pygments_lexer": "ipython3",
   "version": "3.7.3"
  }
 },
 "nbformat": 4,
 "nbformat_minor": 4
}
